{
 "cells": [
  {
   "cell_type": "markdown",
   "id": "cb8390e1-8d94-4825-9360-131ff39e1ca0",
   "metadata": {},
   "source": [
    "# Data Science Tools and Ecosystem"
   ]
  },
  {
   "cell_type": "markdown",
   "id": "e92cd954-d1bf-451b-aedd-37e23ce54d5a",
   "metadata": {},
   "source": [
    "### In this notebook, Data Science Tools and Ecosystem are summarized."
   ]
  },
  {
   "cell_type": "markdown",
   "id": "541f0ca2-c4cb-4192-8a42-0191b0d5deb2",
   "metadata": {},
   "source": [
    "#### Objectives:\n",
    "\n",
    "* List popular languages for Data Science\n",
    "* Make ordored list\n",
    "* List commonly used data science Library\n",
    "* List open source data science tools\n"
   ]
  },
  {
   "cell_type": "markdown",
   "id": "4b025058-0c0a-4a5b-9f4e-4439cd6573ce",
   "metadata": {},
   "source": [
    "### Some of the popular languages that Data Scientists use are:"
   ]
  },
  {
   "cell_type": "markdown",
   "id": "44e31228-6593-4909-ac27-c700bfe7c66d",
   "metadata": {},
   "source": [
    "1. Python\n",
    "2. R\n",
    "3. Julia"
   ]
  },
  {
   "cell_type": "markdown",
   "id": "998eaebe-d4f7-41ff-99a1-0d085d35c275",
   "metadata": {},
   "source": [
    "### Some of the commonly used libraries used by Data Scientists include:"
   ]
  },
  {
   "cell_type": "markdown",
   "id": "bd16a98c-57a3-42e3-87df-e0b58342d61d",
   "metadata": {},
   "source": [
    "1. ggplot2\n",
    "2. plotly\n",
    "3. numpy\n",
    "4. pandas"
   ]
  },
  {
   "cell_type": "markdown",
   "id": "e339550f-90ea-4a7d-b502-7dae6e3fed96",
   "metadata": {},
   "source": [
    "|Data Science Tools|\n",
    "|------------------|\n",
    "| RStudio          |\n",
    "| Jupyter notbook  |\n",
    "| Apache Spark     |\n",
    "\n"
   ]
  },
  {
   "cell_type": "markdown",
   "id": "8cf002ad-4afb-45c4-af1f-bd3f0cc28660",
   "metadata": {},
   "source": [
    "### Below are a few examples of evaluating arithmetic expressions in Python"
   ]
  },
  {
   "cell_type": "markdown",
   "id": "011bb93a-be46-45c1-8cdd-f01c8809d3ae",
   "metadata": {},
   "source": [
    "#### This a simple arithmetic expression to mutiply then add integers"
   ]
  },
  {
   "cell_type": "code",
   "execution_count": 13,
   "id": "65ef38e7-0813-494a-abe8-e9e2a97f3437",
   "metadata": {},
   "outputs": [
    {
     "data": {
      "text/plain": [
       "17"
      ]
     },
     "execution_count": 13,
     "metadata": {},
     "output_type": "execute_result"
    }
   ],
   "source": [
    "(3*4)+5"
   ]
  },
  {
   "cell_type": "markdown",
   "id": "e7d20745-0c70-4b1d-a053-99ccd0d2e0bb",
   "metadata": {},
   "source": [
    "#### This will convert 200 minutes to hours by diving by 60"
   ]
  },
  {
   "cell_type": "code",
   "execution_count": 23,
   "id": "beede58c-8711-40af-9290-e0a1293b4c04",
   "metadata": {},
   "outputs": [
    {
     "name": "stdout",
     "output_type": "stream",
     "text": [
      "200 minutes is equal to 3.3333333333333335 hours.\n"
     ]
    }
   ],
   "source": [
    "minutes = 200\n",
    "hours = minutes / 60\n",
    "print(f\"{minutes} minutes is equal to {hours} hours.\")"
   ]
  },
  {
   "cell_type": "markdown",
   "id": "5694e05d-1ad3-48df-b482-e944408401e2",
   "metadata": {},
   "source": [
    "## Auteur\n",
    "Fructueux Houngbégnon"
   ]
  }
 ],
 "metadata": {
  "kernelspec": {
   "display_name": "Python 3 (ipykernel)",
   "language": "python",
   "name": "python3"
  },
  "language_info": {
   "codemirror_mode": {
    "name": "ipython",
    "version": 3
   },
   "file_extension": ".py",
   "mimetype": "text/x-python",
   "name": "python",
   "nbconvert_exporter": "python",
   "pygments_lexer": "ipython3",
   "version": "3.12.4"
  }
 },
 "nbformat": 4,
 "nbformat_minor": 5
}
